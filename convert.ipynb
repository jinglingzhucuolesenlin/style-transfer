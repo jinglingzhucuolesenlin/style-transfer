{
 "cells": [
  {
   "cell_type": "code",
   "execution_count": null,
   "metadata": {},
   "outputs": [],
   "source": [
    "import cv2\n",
    "print(cv2.__version__)\n",
    "vidcap = cv2.VideoCapture('C:\\\\Users\\\\user\\\\Desktop\\\\face swap\\\\3.mp4')\n",
    "success,image = vidcap.read()\n",
    "count = 0\n",
    "success = True\n",
    "pathname=r\"C:/Users/user/Desktop/face swap/image1/\"\n",
    "while count<1000:\n",
    "  cv2.imwrite(pathname+\"_%d.jpg\"% count,image)# save frame as JPEG file cv2.imwrite(\"./data/photo_{}.jpg\".format(i), photo)\n",
    "  success,image = vidcap.read()\n",
    "  #print 'Read a new frame: ', success\n",
    "  count += 1"
   ]
  },
  {
   "cell_type": "code",
   "execution_count": null,
   "metadata": {},
   "outputs": [],
   "source": [
    "import cv2\n",
    "print(cv2.__version__)\n",
    "vidcap = cv2.VideoCapture('C:\\\\Users\\\\user\\\\Desktop\\\\face swap\\\\2.mp4')\n",
    "success,image = vidcap.read()\n",
    "count = 0\n",
    "success = True\n",
    "pathname=r\"C:/Users/user/Desktop/face swap/image2/\"\n",
    "while count<1000:\n",
    "  cv2.imwrite(pathname+\"_%d.jpg\"% count,image)# save frame as JPEG file cv2.imwrite(\"./data/photo_{}.jpg\".format(i), photo)\n",
    "  success,image = vidcap.read()\n",
    "  #print 'Read a new frame: ', success\n",
    "  count += 1"
   ]
  }
 ],
 "metadata": {
  "kernelspec": {
   "display_name": "Python 3",
   "language": "python",
   "name": "python3"
  },
  "language_info": {
   "codemirror_mode": {
    "name": "ipython",
    "version": 3
   },
   "file_extension": ".py",
   "mimetype": "text/x-python",
   "name": "python",
   "nbconvert_exporter": "python",
   "pygments_lexer": "ipython3",
   "version": "3.7.1"
  }
 },
 "nbformat": 4,
 "nbformat_minor": 2
}
